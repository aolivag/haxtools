{
  "nbformat": 4,
  "nbformat_minor": 0,
  "metadata": {
    "colab": {
      "provenance": []
    },
    "kernelspec": {
      "name": "python3",
      "display_name": "Python 3"
    },
    "language_info": {
      "name": "python"
    }
  },
  "cells": [
    {
      "cell_type": "code",
      "execution_count": 1,
      "metadata": {
        "colab": {
          "base_uri": "https://localhost:8080/"
        },
        "id": "TIsiOFgBBles",
        "outputId": "5e2fd122-c000-4bcc-fb40-302915ef8427"
      },
      "outputs": [
        {
          "output_type": "stream",
          "name": "stdout",
          "text": [
            "Cloning into 'CloakQuest3r'...\n",
            "remote: Enumerating objects: 167, done.\u001b[K\n",
            "remote: Counting objects: 100% (95/95), done.\u001b[K\n",
            "remote: Compressing objects: 100% (61/61), done.\u001b[K\n",
            "remote: Total 167 (delta 65), reused 53 (delta 33), pack-reused 72\u001b[K\n",
            "Receiving objects: 100% (167/167), 1.12 MiB | 3.67 MiB/s, done.\n",
            "Resolving deltas: 100% (90/90), done.\n"
          ]
        }
      ],
      "source": [
        "! git clone https://github.com/spyboy-productions/CloakQuest3r.git"
      ]
    },
    {
      "cell_type": "code",
      "source": [
        "cd CloakQuest3r"
      ],
      "metadata": {
        "colab": {
          "base_uri": "https://localhost:8080/"
        },
        "id": "8sk7FSkHB3Ka",
        "outputId": "3227bcb3-136e-4837-e79a-9bd6f8bbe394"
      },
      "execution_count": 2,
      "outputs": [
        {
          "output_type": "stream",
          "name": "stdout",
          "text": [
            "/content/CloakQuest3r\n"
          ]
        }
      ]
    },
    {
      "cell_type": "code",
      "source": [
        "!pip install -r requirements.txt"
      ],
      "metadata": {
        "colab": {
          "base_uri": "https://localhost:8080/"
        },
        "id": "sRZIKUz9B5a9",
        "outputId": "aa7cd8e2-50c7-4e4f-c090-42da858913c3"
      },
      "execution_count": 3,
      "outputs": [
        {
          "output_type": "stream",
          "name": "stdout",
          "text": [
            "Requirement already satisfied: requests in /usr/local/lib/python3.10/dist-packages (from -r requirements.txt (line 1)) (2.31.0)\n",
            "Collecting colorama (from -r requirements.txt (line 2))\n",
            "  Downloading colorama-0.4.6-py2.py3-none-any.whl (25 kB)\n",
            "Collecting bs4 (from -r requirements.txt (line 3))\n",
            "  Downloading bs4-0.0.2-py2.py3-none-any.whl (1.2 kB)\n",
            "Requirement already satisfied: cryptography in /usr/local/lib/python3.10/dist-packages (from -r requirements.txt (line 4)) (42.0.5)\n",
            "Requirement already satisfied: charset-normalizer<4,>=2 in /usr/local/lib/python3.10/dist-packages (from requests->-r requirements.txt (line 1)) (3.3.2)\n",
            "Requirement already satisfied: idna<4,>=2.5 in /usr/local/lib/python3.10/dist-packages (from requests->-r requirements.txt (line 1)) (3.6)\n",
            "Requirement already satisfied: urllib3<3,>=1.21.1 in /usr/local/lib/python3.10/dist-packages (from requests->-r requirements.txt (line 1)) (2.0.7)\n",
            "Requirement already satisfied: certifi>=2017.4.17 in /usr/local/lib/python3.10/dist-packages (from requests->-r requirements.txt (line 1)) (2024.2.2)\n",
            "Requirement already satisfied: beautifulsoup4 in /usr/local/lib/python3.10/dist-packages (from bs4->-r requirements.txt (line 3)) (4.12.3)\n",
            "Requirement already satisfied: cffi>=1.12 in /usr/local/lib/python3.10/dist-packages (from cryptography->-r requirements.txt (line 4)) (1.16.0)\n",
            "Requirement already satisfied: pycparser in /usr/local/lib/python3.10/dist-packages (from cffi>=1.12->cryptography->-r requirements.txt (line 4)) (2.21)\n",
            "Requirement already satisfied: soupsieve>1.2 in /usr/local/lib/python3.10/dist-packages (from beautifulsoup4->bs4->-r requirements.txt (line 3)) (2.5)\n",
            "Installing collected packages: colorama, bs4\n",
            "Successfully installed bs4-0.0.2 colorama-0.4.6\n"
          ]
        }
      ]
    },
    {
      "cell_type": "code",
      "source": [
        "!python cloakquest3r.py top.gg"
      ],
      "metadata": {
        "colab": {
          "base_uri": "https://localhost:8080/"
        },
        "id": "lMMSxCGYB7Ka",
        "outputId": "9dd69735-af67-48e9-fd16-2ad572c1495d"
      },
      "execution_count": 11,
      "outputs": [
        {
          "output_type": "stream",
          "name": "stdout",
          "text": [
            "\u001b[31m\n",
            "   ___ _             _      ____                 _   _____\n",
            "  / __\\ | ___   __ _| | __ /___ \\_   _  ___  ___| |_|___ / _ __\n",
            " / /  | |/ _ \\ / _` | |/ ///  / / | | |/ _ \\/ __| __| |_ \\| '__|\n",
            "/ /___| | (_) | (_| |   </ \\_/ /| |_| |  __/\\__ \\ |_ ___) | |\n",
            "\\____/|_|\\___/ \\__,_|_|\\_\\___,_\\ \\__,_|\\___||___/\\__|____/|_|\n",
            "Uncover the true IP address of websites safeguarded by Cloudflare & ohers.\n",
            "\u001b[0m\n",
            "\n",
            "\u001b[32m[+] \u001b[33mVersion      : \u001b[0m1.0.4\n",
            "\u001b[32m[+] \u001b[33mCreated By   : \u001b[0mSpyboy\n",
            "\u001b[32m └➤ \u001b[33mTwitter      : \u001b[0mhttps://spyboy.in/twitter\n",
            "\u001b[32m └➤ \u001b[33mDiscord      : \u001b[0mhttps://spyboy.in/Discord\n",
            "\u001b[32m └➤ \u001b[33mWebsite      : \u001b[0mhttps://spyboy.in/\n",
            "\u001b[32m └➤ \u001b[33mBlog         : \u001b[0mhttps://spyboy.blog/\n",
            "\u001b[32m └➤ \u001b[33mGithub       : \u001b[0mhttps://github.com/spyboy-productions/CloakQuest3r\n",
            "\n",
            "\n",
            "\u001b[32m[!] \u001b[36mChecking if the website uses Cloudflare\u001b[39m\n",
            "\n",
            "\n",
            "\u001b[31mTarget Website: \u001b[0mtop.gg\n",
            "\u001b[31mVisible IP Address: \u001b[0m104.16.174.56\n",
            "\n",
            "\n",
            "\u001b[32m[+] \u001b[33mHistorical IP Address Info from \u001b[36mViewdns\u001b[33m for \u001b[32mtop.gg:\u001b[0m\n",
            "\n",
            "\u001b[31m [+] \u001b[36mIP Address: \u001b[31m104.16.173.56\u001b[0m\n",
            "\u001b[33m  └➤ \u001b[36mLocation: \u001b[32mUnknown\u001b[0m\n",
            "\u001b[33m  └➤ \u001b[36mOwner: \u001b[32mCloudflare, Inc\u001b[0m\n",
            "\u001b[33m  └➤ \u001b[36mLast Seen: \u001b[32m2024-02-07\u001b[0m\n",
            "\u001b[31mError extracting Historical IP Address information from SecurityTrails\u001b[39m\n",
            "\n",
            "\u001b[32m[+] \u001b[33mScanning for subdomains.\u001b[39m\n",
            "\n",
            "\u001b[33mStarting threads...\n",
            "\u001b[32mSubdomain Found └➤: https://blog.top.gg\u001b[39m\n",
            "\u001b[32mSubdomain Found └➤: https://docs.top.gg\u001b[39m\n",
            "\u001b[32mSubdomain Found └➤: https://feedback.top.gg\u001b[39m\n",
            "\u001b[32mSubdomain Found └➤: https://support.top.gg\u001b[39m\n",
            "\u001b[32mSubdomain Found └➤: https://staging.top.gg\u001b[39m\n",
            "\u001b[32mSubdomain Found └➤: https://status.top.gg\u001b[39m\n",
            "\u001b[32mSubdomain Found └➤: https://www.top.gg\u001b[39m\n",
            "\n",
            "\u001b[32m └➤ \u001b[36mTotal Subdomains Scanned:\u001b[0m 781\n",
            "\u001b[32m └➤ \u001b[36mTotal Subdomains Found:\u001b[0m 7\n",
            "\u001b[32m └➤ \u001b[36mTime taken:\u001b[0m 4.40 seconds\n",
            "\n",
            "\u001b[33m[+] \u001b[36mReal IP Address of \u001b[32mblog.top.gg:\u001b[31m 151.101.3.7\n",
            "/content/CloakQuest3r/cloakquest3r.py:90: CryptographyDeprecationWarning: Properties that return a naïve datetime object have been deprecated. Please switch to not_valid_before_utc.\n",
            "  validity_start = certificate.not_valid_before\n",
            "/content/CloakQuest3r/cloakquest3r.py:91: CryptographyDeprecationWarning: Properties that return a naïve datetime object have been deprecated. Please switch to not_valid_after_utc.\n",
            "  validity_end = certificate.not_valid_after\n",
            "\u001b[31m   [+] \u001b[36mSSL Certificate Information:\n",
            "\u001b[31m      └➤ \u001b[36mCommon Name:\u001b[0m blog.top.gg\n",
            "\u001b[31m      └➤ \u001b[36mIssuer:\u001b[0m ZeroSSL RSA Domain Secure Site CA\n",
            "\u001b[31m      └➤ \u001b[36mValidity Start:\u001b[0m 2024-03-02 00:00:00\n",
            "\u001b[31m      └➤ \u001b[36mValidity End:\u001b[0m 2024-05-31 23:59:59\n",
            "\n",
            "\u001b[33m[+] \u001b[36mReal IP Address of \u001b[32mdocs.top.gg:\u001b[31m 104.16.174.56\n",
            "\u001b[31m   [+] \u001b[36mSSL Certificate Information:\n",
            "\u001b[31m      └➤ \u001b[36mCommon Name:\u001b[0m sni.cloudflaressl.com\n",
            "\u001b[31m      └➤ \u001b[36mIssuer:\u001b[0m Cloudflare Inc ECC CA-3\n",
            "\u001b[31m      └➤ \u001b[36mValidity Start:\u001b[0m 2023-05-15 00:00:00\n",
            "\u001b[31m      └➤ \u001b[36mValidity End:\u001b[0m 2024-05-14 23:59:59\n",
            "\n",
            "\u001b[33m[+] \u001b[36mReal IP Address of \u001b[32mfeedback.top.gg:\u001b[31m 104.16.174.56\n",
            "\u001b[31m   [+] \u001b[36mSSL Certificate Information:\n",
            "\u001b[31m      └➤ \u001b[36mCommon Name:\u001b[0m sni.cloudflaressl.com\n",
            "\u001b[31m      └➤ \u001b[36mIssuer:\u001b[0m Cloudflare Inc ECC CA-3\n",
            "\u001b[31m      └➤ \u001b[36mValidity Start:\u001b[0m 2023-05-15 00:00:00\n",
            "\u001b[31m      └➤ \u001b[36mValidity End:\u001b[0m 2024-05-14 23:59:59\n",
            "\n",
            "\u001b[33m[+] \u001b[36mReal IP Address of \u001b[32msupport.top.gg:\u001b[31m 54.236.126.93\n",
            "\u001b[31m   [+] \u001b[36mSSL Certificate Information:\n",
            "\u001b[31m      └➤ \u001b[36mCommon Name:\u001b[0m support.top.gg\n",
            "\u001b[31m      └➤ \u001b[36mIssuer:\u001b[0m R3\n",
            "\u001b[31m      └➤ \u001b[36mValidity Start:\u001b[0m 2024-02-04 11:29:03\n",
            "\u001b[31m      └➤ \u001b[36mValidity End:\u001b[0m 2024-05-04 11:29:02\n",
            "\n",
            "\u001b[33m[+] \u001b[36mReal IP Address of \u001b[32mstaging.top.gg:\u001b[31m 104.16.174.56\n",
            "\u001b[31m   [+] \u001b[36mSSL Certificate Information:\n",
            "\u001b[31m      └➤ \u001b[36mCommon Name:\u001b[0m sni.cloudflaressl.com\n",
            "\u001b[31m      └➤ \u001b[36mIssuer:\u001b[0m Cloudflare Inc ECC CA-3\n",
            "\u001b[31m      └➤ \u001b[36mValidity Start:\u001b[0m 2023-05-15 00:00:00\n",
            "\u001b[31m      └➤ \u001b[36mValidity End:\u001b[0m 2024-05-14 23:59:59\n",
            "\n",
            "\u001b[33m[+] \u001b[36mReal IP Address of \u001b[32mstatus.top.gg:\u001b[31m 142.132.140.101\n",
            "\u001b[31m   [+] \u001b[36mSSL Certificate Information:\n",
            "\u001b[31m      └➤ \u001b[36mCommon Name:\u001b[0m status.top.gg\n",
            "\u001b[31m      └➤ \u001b[36mIssuer:\u001b[0m R3\n",
            "\u001b[31m      └➤ \u001b[36mValidity Start:\u001b[0m 2024-03-03 14:14:39\n",
            "\u001b[31m      └➤ \u001b[36mValidity End:\u001b[0m 2024-06-01 14:14:38\n",
            "\n",
            "\u001b[33m[+] \u001b[36mReal IP Address of \u001b[32mwww.top.gg:\u001b[31m 104.16.174.56\n",
            "\u001b[31m   [+] \u001b[36mSSL Certificate Information:\n",
            "\u001b[31m      └➤ \u001b[36mCommon Name:\u001b[0m sni.cloudflaressl.com\n",
            "\u001b[31m      └➤ \u001b[36mIssuer:\u001b[0m Cloudflare Inc ECC CA-3\n",
            "\u001b[31m      └➤ \u001b[36mValidity Start:\u001b[0m 2023-05-15 00:00:00\n",
            "\u001b[31m      └➤ \u001b[36mValidity End:\u001b[0m 2024-05-14 23:59:59\n",
            "\n",
            "Task Complete!!\n",
            "\n",
            "\u001b[0m"
          ]
        }
      ]
    }
  ]
}